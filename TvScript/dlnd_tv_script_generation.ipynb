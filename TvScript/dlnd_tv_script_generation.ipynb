{
 "cells": [
  {
   "cell_type": "markdown",
   "metadata": {
    "deletable": true,
    "editable": true
   },
   "source": [
    "# TV Script Generation\n",
    "In this project, you'll generate your own [Simpsons](https://en.wikipedia.org/wiki/The_Simpsons) TV scripts using RNNs.  You'll be using part of the [Simpsons dataset](https://www.kaggle.com/wcukierski/the-simpsons-by-the-data) of scripts from 27 seasons.  The Neural Network you'll build will generate a new TV script for a scene at [Moe's Tavern](https://simpsonswiki.com/wiki/Moe's_Tavern).\n",
    "## Get the Data\n",
    "The data is already provided for you.  You'll be using a subset of the original dataset.  It consists of only the scenes in Moe's Tavern.  This doesn't include other versions of the tavern, like \"Moe's Cavern\", \"Flaming Moe's\", \"Uncle Moe's Family Feed-Bag\", etc.."
   ]
  },
  {
   "cell_type": "code",
   "execution_count": 1,
   "metadata": {
    "collapsed": true,
    "deletable": true,
    "editable": true
   },
   "outputs": [],
   "source": [
    "\"\"\"\n",
    "DON'T MODIFY ANYTHING IN THIS CELL\n",
    "\"\"\"\n",
    "import helper\n",
    "\n",
    "data_dir = './data/simpsons/moes_tavern_lines.txt'\n",
    "text = helper.load_data(data_dir)\n",
    "# Ignore notice, since we don't use it for analysing the data\n",
    "text = text[81:]"
   ]
  },
  {
   "cell_type": "markdown",
   "metadata": {
    "deletable": true,
    "editable": true
   },
   "source": [
    "## Explore the Data\n",
    "Play around with `view_sentence_range` to view different parts of the data."
   ]
  },
  {
   "cell_type": "code",
   "execution_count": 2,
   "metadata": {
    "collapsed": false,
    "deletable": true,
    "editable": true
   },
   "outputs": [
    {
     "name": "stdout",
     "output_type": "stream",
     "text": [
      "Dataset Stats\n",
      "Roughly the number of unique words: 11492\n",
      "Number of scenes: 262\n",
      "Average number of sentences in each scene: 15.248091603053435\n",
      "Number of lines: 4257\n",
      "Average number of words in each line: 11.50434578341555\n",
      "\n",
      "The sentences 0 to 10:\n",
      "Moe_Szyslak: (INTO PHONE) Moe's Tavern. Where the elite meet to drink.\n",
      "Bart_Simpson: Eh, yeah, hello, is Mike there? Last name, Rotch.\n",
      "Moe_Szyslak: (INTO PHONE) Hold on, I'll check. (TO BARFLIES) Mike Rotch. Mike Rotch. Hey, has anybody seen Mike Rotch, lately?\n",
      "Moe_Szyslak: (INTO PHONE) Listen you little puke. One of these days I'm gonna catch you, and I'm gonna carve my name on your back with an ice pick.\n",
      "Moe_Szyslak: What's the matter Homer? You're not your normal effervescent self.\n",
      "Homer_Simpson: I got my problems, Moe. Give me another one.\n",
      "Moe_Szyslak: Homer, hey, you should not drink to forget your problems.\n",
      "Barney_Gumble: Yeah, you should only drink to enhance your social skills.\n",
      "\n",
      "\n"
     ]
    }
   ],
   "source": [
    "view_sentence_range = (0, 10)\n",
    "\n",
    "\"\"\"\n",
    "DON'T MODIFY ANYTHING IN THIS CELL\n",
    "\"\"\"\n",
    "import numpy as np\n",
    "\n",
    "print('Dataset Stats')\n",
    "print('Roughly the number of unique words: {}'.format(len({word: None for word in text.split()})))\n",
    "scenes = text.split('\\n\\n')\n",
    "print('Number of scenes: {}'.format(len(scenes)))\n",
    "sentence_count_scene = [scene.count('\\n') for scene in scenes]\n",
    "print('Average number of sentences in each scene: {}'.format(np.average(sentence_count_scene)))\n",
    "\n",
    "sentences = [sentence for scene in scenes for sentence in scene.split('\\n')]\n",
    "print('Number of lines: {}'.format(len(sentences)))\n",
    "word_count_sentence = [len(sentence.split()) for sentence in sentences]\n",
    "print('Average number of words in each line: {}'.format(np.average(word_count_sentence)))\n",
    "\n",
    "print()\n",
    "print('The sentences {} to {}:'.format(*view_sentence_range))\n",
    "print('\\n'.join(text.split('\\n')[view_sentence_range[0]:view_sentence_range[1]]))"
   ]
  },
  {
   "cell_type": "markdown",
   "metadata": {
    "deletable": true,
    "editable": true
   },
   "source": [
    "## Implement Preprocessing Functions\n",
    "The first thing to do to any dataset is preprocessing.  Implement the following preprocessing functions below:\n",
    "- Lookup Table\n",
    "- Tokenize Punctuation\n",
    "\n",
    "### Lookup Table\n",
    "To create a word embedding, you first need to transform the words to ids.  In this function, create two dictionaries:\n",
    "- Dictionary to go from the words to an id, we'll call `vocab_to_int`\n",
    "- Dictionary to go from the id to word, we'll call `int_to_vocab`\n",
    "\n",
    "Return these dictionaries in the following tuple `(vocab_to_int, int_to_vocab)`"
   ]
  },
  {
   "cell_type": "code",
   "execution_count": 3,
   "metadata": {
    "collapsed": false,
    "deletable": true,
    "editable": true
   },
   "outputs": [
    {
     "name": "stdout",
     "output_type": "stream",
     "text": [
      "Tests Passed\n"
     ]
    }
   ],
   "source": [
    "import numpy as np\n",
    "import problem_unittests as tests\n",
    "\n",
    "def create_lookup_tables(text):\n",
    "    \"\"\"\n",
    "    Create lookup tables for vocabulary\n",
    "    :param text: The text of tv scripts split into words\n",
    "    :return: A tuple of dicts (vocab_to_int, int_to_vocab)\n",
    "    \"\"\"\n",
    "    # TODO: Implement Function\n",
    "    \n",
    "    vocab = set(text)\n",
    "    vocab_to_int = {c: i for i, c in enumerate(vocab)}\n",
    "    int_to_vocab = dict(enumerate(vocab))\n",
    "    encoded = np.array([vocab_to_int[c] for c in text], dtype=np.int32)\n",
    "    return vocab_to_int, int_to_vocab\n",
    "\n",
    "\n",
    "\"\"\"\n",
    "DON'T MODIFY ANYTHING IN THIS CELL THAT IS BELOW THIS LINE\n",
    "\"\"\"\n",
    "tests.test_create_lookup_tables(create_lookup_tables)"
   ]
  },
  {
   "cell_type": "markdown",
   "metadata": {
    "deletable": true,
    "editable": true
   },
   "source": [
    "### Tokenize Punctuation\n",
    "We'll be splitting the script into a word array using spaces as delimiters.  However, punctuations like periods and exclamation marks make it hard for the neural network to distinguish between the word \"bye\" and \"bye!\".\n",
    "\n",
    "Implement the function `token_lookup` to return a dict that will be used to tokenize symbols like \"!\" into \"||Exclamation_Mark||\".  Create a dictionary for the following symbols where the symbol is the key and value is the token:\n",
    "- Period ( . )\n",
    "- Comma ( , )\n",
    "- Quotation Mark ( \" )\n",
    "- Semicolon ( ; )\n",
    "- Exclamation mark ( ! )\n",
    "- Question mark ( ? )\n",
    "- Left Parentheses ( ( )\n",
    "- Right Parentheses ( ) )\n",
    "- Dash ( -- )\n",
    "- Return ( \\n )\n",
    "\n",
    "This dictionary will be used to token the symbols and add the delimiter (space) around it.  This separates the symbols as it's own word, making it easier for the neural network to predict on the next word. Make sure you don't use a token that could be confused as a word. Instead of using the token \"dash\", try using something like \"||dash||\"."
   ]
  },
  {
   "cell_type": "code",
   "execution_count": 10,
   "metadata": {
    "collapsed": false,
    "deletable": true,
    "editable": true
   },
   "outputs": [
    {
     "name": "stdout",
     "output_type": "stream",
     "text": [
      "Tests Passed\n"
     ]
    }
   ],
   "source": [
    "def token_lookup():\n",
    "    \"\"\"\n",
    "    Generate a dict to turn punctuation into a token.\n",
    "    :return: Tokenize dictionary where the key is the punctuation and the value is the token\n",
    "    \"\"\"\n",
    "    # TODO: Implement Function\n",
    "    dict = {\".\" : \"||Period||\",\n",
    "            \",\" : \"||Comma||\",\n",
    "           \"\\\"\" : \"||Quotation_Mark||\",\n",
    "            \";\" : \"||Semicolon||\",\n",
    "            \"!\" : \"||Exclamation_mark||\",\n",
    "            \"?\" : \"||Question_mark||\",\n",
    "            \"(\" : \"||Left_Parentheses||\",\n",
    "            \")\" : \"||Right_Parentheses||\",\n",
    "            \"--\" : \"||Dash||\",\n",
    "            \"\\n\" : \"||Return||\"\n",
    "           }\n",
    "    return dict\n",
    "\n",
    "\"\"\"\n",
    "DON'T MODIFY ANYTHING IN THIS CELL THAT IS BELOW THIS LINE\n",
    "\"\"\"\n",
    "tests.test_tokenize(token_lookup)"
   ]
  },
  {
   "cell_type": "markdown",
   "metadata": {
    "deletable": true,
    "editable": true
   },
   "source": [
    "## Preprocess all the data and save it\n",
    "Running the code cell below will preprocess all the data and save it to file."
   ]
  },
  {
   "cell_type": "code",
   "execution_count": 11,
   "metadata": {
    "collapsed": true,
    "deletable": true,
    "editable": true
   },
   "outputs": [],
   "source": [
    "\"\"\"\n",
    "DON'T MODIFY ANYTHING IN THIS CELL\n",
    "\"\"\"\n",
    "# Preprocess Training, Validation, and Testing Data\n",
    "helper.preprocess_and_save_data(data_dir, token_lookup, create_lookup_tables)"
   ]
  },
  {
   "cell_type": "markdown",
   "metadata": {
    "deletable": true,
    "editable": true
   },
   "source": [
    "# Check Point\n",
    "This is your first checkpoint. If you ever decide to come back to this notebook or have to restart the notebook, you can start from here. The preprocessed data has been saved to disk."
   ]
  },
  {
   "cell_type": "code",
   "execution_count": 1,
   "metadata": {
    "collapsed": true,
    "deletable": true,
    "editable": true
   },
   "outputs": [],
   "source": [
    "\"\"\"\n",
    "DON'T MODIFY ANYTHING IN THIS CELL\n",
    "\"\"\"\n",
    "import helper\n",
    "import numpy as np\n",
    "import problem_unittests as tests\n",
    "\n",
    "int_text, vocab_to_int, int_to_vocab, token_dict = helper.load_preprocess()"
   ]
  },
  {
   "cell_type": "markdown",
   "metadata": {
    "deletable": true,
    "editable": true
   },
   "source": [
    "## Build the Neural Network\n",
    "You'll build the components necessary to build a RNN by implementing the following functions below:\n",
    "- get_inputs\n",
    "- get_init_cell\n",
    "- get_embed\n",
    "- build_rnn\n",
    "- build_nn\n",
    "- get_batches\n",
    "\n",
    "### Check the Version of TensorFlow and Access to GPU"
   ]
  },
  {
   "cell_type": "code",
   "execution_count": 2,
   "metadata": {
    "collapsed": false,
    "deletable": true,
    "editable": true
   },
   "outputs": [
    {
     "name": "stdout",
     "output_type": "stream",
     "text": [
      "TensorFlow Version: 1.0.0\n",
      "Default GPU Device: /gpu:0\n"
     ]
    }
   ],
   "source": [
    "\"\"\"\n",
    "DON'T MODIFY ANYTHING IN THIS CELL\n",
    "\"\"\"\n",
    "from distutils.version import LooseVersion\n",
    "import warnings\n",
    "import tensorflow as tf\n",
    "\n",
    "# Check TensorFlow Version\n",
    "assert LooseVersion(tf.__version__) >= LooseVersion('1.0'), 'Please use TensorFlow version 1.0 or newer'\n",
    "print('TensorFlow Version: {}'.format(tf.__version__))\n",
    "\n",
    "# Check for a GPU\n",
    "if not tf.test.gpu_device_name():\n",
    "    warnings.warn('No GPU found. Please use a GPU to train your neural network.')\n",
    "else:\n",
    "    print('Default GPU Device: {}'.format(tf.test.gpu_device_name()))"
   ]
  },
  {
   "cell_type": "markdown",
   "metadata": {
    "deletable": true,
    "editable": true
   },
   "source": [
    "### Input\n",
    "Implement the `get_inputs()` function to create TF Placeholders for the Neural Network.  It should create the following placeholders:\n",
    "- Input text placeholder named \"input\" using the [TF Placeholder](https://www.tensorflow.org/api_docs/python/tf/placeholder) `name` parameter.\n",
    "- Targets placeholder\n",
    "- Learning Rate placeholder\n",
    "\n",
    "Return the placeholders in the following tuple `(Input, Targets, LearningRate)`"
   ]
  },
  {
   "cell_type": "code",
   "execution_count": 3,
   "metadata": {
    "collapsed": false,
    "deletable": true,
    "editable": true
   },
   "outputs": [
    {
     "name": "stdout",
     "output_type": "stream",
     "text": [
      "Tests Passed\n"
     ]
    }
   ],
   "source": [
    "def get_inputs():\n",
    "    \"\"\"\n",
    "    Create TF Placeholders for input, targets, and learning rate.\n",
    "    :return: Tuple (input, targets, learning rate)\n",
    "    \"\"\"\n",
    "    # TODO: Implement Function\n",
    "    inputs=tf.placeholder(tf.int32, shape=(None, None), name='input')\n",
    "    targets=tf.placeholder(tf.int32, shape=(None, None), name='targets')\n",
    "    learning_rate=tf.placeholder(tf.float32,name='learning_rate')\n",
    "    return inputs, targets, learning_rate\n",
    "\n",
    "\"\"\"\n",
    "DON'T MODIFY ANYTHING IN THIS CELL THAT IS BELOW THIS LINE\n",
    "\"\"\"\n",
    "tests.test_get_inputs(get_inputs)"
   ]
  },
  {
   "cell_type": "markdown",
   "metadata": {
    "deletable": true,
    "editable": true
   },
   "source": [
    "### Build RNN Cell and Initialize\n",
    "Stack one or more [`BasicLSTMCells`](https://www.tensorflow.org/api_docs/python/tf/contrib/rnn/BasicLSTMCell) in a [`MultiRNNCell`](https://www.tensorflow.org/api_docs/python/tf/contrib/rnn/MultiRNNCell).\n",
    "- The Rnn size should be set using `rnn_size`\n",
    "- Initalize Cell State using the MultiRNNCell's [`zero_state()`](https://www.tensorflow.org/api_docs/python/tf/contrib/rnn/MultiRNNCell#zero_state) function\n",
    "    - Apply the name \"initial_state\" to the initial state using [`tf.identity()`](https://www.tensorflow.org/api_docs/python/tf/identity)\n",
    "\n",
    "Return the cell and initial state in the following tuple `(Cell, InitialState)`"
   ]
  },
  {
   "cell_type": "code",
   "execution_count": 4,
   "metadata": {
    "collapsed": false,
    "deletable": true,
    "editable": true
   },
   "outputs": [
    {
     "name": "stdout",
     "output_type": "stream",
     "text": [
      "Tests Passed\n"
     ]
    }
   ],
   "source": [
    "def get_init_cell(batch_size, rnn_size):\n",
    "    \"\"\"\n",
    "    Create an RNN Cell and initialize it.\n",
    "    :param batch_size: Size of batches\n",
    "    :param rnn_size: Size of RNNs\n",
    "    :return: Tuple (cell, initialize state)\n",
    "    \"\"\"\n",
    "    # TODO: Implement Function\n",
    "    lstm = tf.contrib.rnn.BasicLSTMCell(rnn_size)\n",
    "#   drop = tf.contrib.rnn.DropoutWrapper(lstm, output_keep_prob=0.1)\n",
    "    num_layers = 2\n",
    "    cell = tf.contrib.rnn.MultiRNNCell([lstm] * num_layers)\n",
    "    \n",
    "    initial_state = tf.identity(cell.zero_state(batch_size, tf.float32), name='initial_state')\n",
    "    return cell, initial_state\n",
    "   \n",
    "\n",
    "\n",
    "\"\"\"\n",
    "DON'T MODIFY ANYTHING IN THIS CELL THAT IS BELOW THIS LINE\n",
    "\"\"\"\n",
    "tests.test_get_init_cell(get_init_cell)"
   ]
  },
  {
   "cell_type": "markdown",
   "metadata": {
    "deletable": true,
    "editable": true
   },
   "source": [
    "### Word Embedding\n",
    "Apply embedding to `input_data` using TensorFlow.  Return the embedded sequence."
   ]
  },
  {
   "cell_type": "code",
   "execution_count": 5,
   "metadata": {
    "collapsed": false,
    "deletable": true,
    "editable": true
   },
   "outputs": [
    {
     "name": "stdout",
     "output_type": "stream",
     "text": [
      "Tests Passed\n"
     ]
    }
   ],
   "source": [
    "def get_embed(input_data, vocab_size, embed_dim):\n",
    "    \"\"\"\n",
    "    Create embedding for <input_data>.\n",
    "    :param input_data: TF placeholder for text input.\n",
    "    :param vocab_size: Number of words in vocabulary.\n",
    "    :param embed_dim: Number of embedding dimensions\n",
    "    :return: Embedded input.\n",
    "    \"\"\"\n",
    "    # TODO: Implement Function\n",
    "    embedding = tf.Variable(tf.random_uniform((vocab_size, embed_dim), -1, 1))\n",
    "    embedded = tf.nn.embedding_lookup(embedding, input_data)\n",
    "    return embedded\n",
    "\n",
    "\n",
    "\"\"\"\n",
    "DON'T MODIFY ANYTHING IN THIS CELL THAT IS BELOW THIS LINE\n",
    "\"\"\"\n",
    "tests.test_get_embed(get_embed)"
   ]
  },
  {
   "cell_type": "markdown",
   "metadata": {
    "deletable": true,
    "editable": true
   },
   "source": [
    "### Build RNN\n",
    "You created a RNN Cell in the `get_init_cell()` function.  Time to use the cell to create a RNN.\n",
    "- Build the RNN using the [`tf.nn.dynamic_rnn()`](https://www.tensorflow.org/api_docs/python/tf/nn/dynamic_rnn)\n",
    " - Apply the name \"final_state\" to the final state using [`tf.identity()`](https://www.tensorflow.org/api_docs/python/tf/identity)\n",
    "\n",
    "Return the outputs and final_state state in the following tuple `(Outputs, FinalState)` "
   ]
  },
  {
   "cell_type": "code",
   "execution_count": 6,
   "metadata": {
    "collapsed": false,
    "deletable": true,
    "editable": true
   },
   "outputs": [
    {
     "name": "stdout",
     "output_type": "stream",
     "text": [
      "Tests Passed\n"
     ]
    }
   ],
   "source": [
    "def build_rnn(cell, inputs):\n",
    "    \"\"\"\n",
    "    Create a RNN using a RNN Cell\n",
    "    :param cell: RNN Cell\n",
    "    :param inputs: Input text data\n",
    "    :return: Tuple (Outputs, Final State)\n",
    "    \"\"\"\n",
    "    # TODO: Implement Function\n",
    "    outputs, final_state = tf.nn.dynamic_rnn(cell, inputs=inputs, dtype=tf.float32)\n",
    "    final_state = tf.identity(final_state, name='final_state')\n",
    "    return outputs, final_state\n",
    "\n",
    "\n",
    "\"\"\"\n",
    "DON'T MODIFY ANYTHING IN THIS CELL THAT IS BELOW THIS LINE\n",
    "\"\"\"\n",
    "tests.test_build_rnn(build_rnn)"
   ]
  },
  {
   "cell_type": "markdown",
   "metadata": {
    "deletable": true,
    "editable": true
   },
   "source": [
    "### Build the Neural Network\n",
    "Apply the functions you implemented above to:\n",
    "- Apply embedding to `input_data` using your `get_embed(input_data, vocab_size, embed_dim)` function.\n",
    "- Build RNN using `cell` and your `build_rnn(cell, inputs)` function.\n",
    "- Apply a fully connected layer with a linear activation and `vocab_size` as the number of outputs.\n",
    "\n",
    "Return the logits and final state in the following tuple (Logits, FinalState) "
   ]
  },
  {
   "cell_type": "code",
   "execution_count": 7,
   "metadata": {
    "collapsed": false,
    "deletable": true,
    "editable": true
   },
   "outputs": [
    {
     "name": "stdout",
     "output_type": "stream",
     "text": [
      "Tests Passed\n"
     ]
    }
   ],
   "source": [
    "def build_nn(cell, rnn_size, input_data, vocab_size, embed_dim):\n",
    "    \"\"\"\n",
    "    Build part of the neural network\n",
    "    :param cell: RNN cell\n",
    "    :param rnn_size: Size of rnns\n",
    "    :param input_data: Input data\n",
    "    :param vocab_size: Vocabulary size\n",
    "    :param embed_dim: Number of embedding dimensions\n",
    "    :return: Tuple (Logits, FinalState)\n",
    "    \"\"\"\n",
    "    # TODO: Implement Function\n",
    "    embed = get_embed(input_data, vocab_size, embed_dim)\n",
    "    outputs, final_state = build_rnn(cell, embed)\n",
    "    \n",
    "    logits = tf.contrib.layers.fully_connected(outputs, vocab_size, activation_fn=None)\n",
    "\n",
    "    \n",
    "    return logits, final_state\n",
    "#     return None, None\n",
    "\n",
    "\n",
    "\"\"\"\n",
    "DON'T MODIFY ANYTHING IN THIS CELL THAT IS BELOW THIS LINE\n",
    "\"\"\"\n",
    "tests.test_build_nn(build_nn)"
   ]
  },
  {
   "cell_type": "markdown",
   "metadata": {
    "deletable": true,
    "editable": true
   },
   "source": [
    "### Batches\n",
    "Implement `get_batches` to create batches of input and targets using `int_text`.  The batches should be a Numpy array with the shape `(number of batches, 2, batch size, sequence length)`. Each batch contains two elements:\n",
    "- The first element is a single batch of **input** with the shape `[batch size, sequence length]`\n",
    "- The second element is a single batch of **targets** with the shape `[batch size, sequence length]`\n",
    "\n",
    "If you can't fill the last batch with enough data, drop the last batch.\n",
    "\n",
    "For exmple, `get_batches([1, 2, 3, 4, 5, 6, 7, 8, 9, 10, 11, 12, 13, 14, 15], 2, 3)` would return a Numpy array of the following:\n",
    "```\n",
    "[\n",
    "  # First Batch\n",
    "  [\n",
    "    # Batch of Input\n",
    "    [[ 1  2  3], [ 7  8  9]],\n",
    "    # Batch of targets\n",
    "    [[ 2  3  4], [ 8  9 10]]\n",
    "  ],\n",
    " \n",
    "  # Second Batch\n",
    "  [\n",
    "    # Batch of Input\n",
    "    [[ 4  5  6], [10 11 12]],\n",
    "    # Batch of targets\n",
    "    [[ 5  6  7], [11 12 13]]\n",
    "  ]\n",
    "]\n",
    "```"
   ]
  },
  {
   "cell_type": "code",
   "execution_count": 15,
   "metadata": {
    "collapsed": false,
    "deletable": true,
    "editable": true
   },
   "outputs": [
    {
     "name": "stdout",
     "output_type": "stream",
     "text": [
      "Tests Passed\n"
     ]
    }
   ],
   "source": [
    "def get_batches(int_text, batch_size, seq_length):\n",
    "    \"\"\"\n",
    "    Return batches of input and target\n",
    "    :param int_text: Text with the words replaced by their ids\n",
    "    :param batch_size: The size of batch\n",
    "    :param seq_length: The length of sequence\n",
    "    :return: Batches as a Numpy array\n",
    "    \"\"\"\n",
    "    # Get the number of characters per batch and number of batches we can make\n",
    "#     characters_per_batch = batch_size * seq_length\n",
    "#     n_batches = len(int_text)//characters_per_batch\n",
    "    \n",
    "#     # Keep only enough characters to make full batches\n",
    "#     int_text = int_text[:n_batches * characters_per_batch]\n",
    "    \n",
    "#     # Reshape into n_seqs rows\n",
    "#     int_text = int_text.reshape((batch_size, -1))\n",
    "    \n",
    "#     mylist = []\n",
    "#     for n in range(0, int_text.shape[1], seq_length):\n",
    "#         # The features\n",
    "#         x = int_text[:, n:n+seq_length]\n",
    "#         # The targets, shifted by one\n",
    "#         y = np.zeros_like(x)\n",
    "#         y[:, :-1], y[:, -1] = x[:, 1:], x[:, 0]\n",
    "#         print('xy', x, y)\n",
    "#         mylist.append(zip(x,y))\n",
    "#         #yield x, y\n",
    "#     return np.array()\n",
    "    # TODO: Implement Function\n",
    "    n_batches = len(int_text) // (batch_size * seq_length)\n",
    "    int_text = int_text[:n_batches*batch_size*seq_length+1]\n",
    "    \n",
    "    batches = np.ndarray(shape = (n_batches,2,batch_size,seq_length), dtype = np.int32)\n",
    "    \n",
    "    x = np.array(int_text[: n_batches * batch_size * seq_length])\n",
    "    y = np.array(int_text[1: n_batches * batch_size * seq_length + 1])\n",
    "    \n",
    "    x_batches = np.split(x.reshape(batch_size, -1), n_batches, 1)\n",
    "    y_batches = np.split(y.reshape(batch_size, -1), n_batches, 1)\n",
    "    \n",
    "    return np.array(list(zip(x_batches, y_batches)))\n",
    "\n",
    "\n",
    "\"\"\"\n",
    "DON'T MODIFY ANYTHING IN THIS CELL THAT IS BELOW THIS LINE\n",
    "\"\"\"\n",
    "tests.test_get_batches(get_batches)"
   ]
  },
  {
   "cell_type": "markdown",
   "metadata": {
    "deletable": true,
    "editable": true
   },
   "source": [
    "## Neural Network Training\n",
    "### Hyperparameters\n",
    "Tune the following parameters:\n",
    "\n",
    "- Set `num_epochs` to the number of epochs.\n",
    "- Set `batch_size` to the batch size.\n",
    "- Set `rnn_size` to the size of the RNNs.\n",
    "- Set `embed_dim` to the size of the embedding.\n",
    "- Set `seq_length` to the length of sequence.\n",
    "- Set `learning_rate` to the learning rate.\n",
    "- Set `show_every_n_batches` to the number of batches the neural network should print progress."
   ]
  },
  {
   "cell_type": "code",
   "execution_count": 26,
   "metadata": {
    "collapsed": true,
    "deletable": true,
    "editable": true
   },
   "outputs": [],
   "source": [
    "# Number of Epochs\n",
    "num_epochs = 273\n",
    "# Batch Size\n",
    "batch_size = 256\n",
    "# RNN Size\n",
    "rnn_size = 256\n",
    "# Sequence Length\n",
    "seq_length = 16\n",
    "# Learning Rate\n",
    "learning_rate = 0.03\n",
    "# Show stats for every n number of batches\n",
    "show_every_n_batches = 16\n",
    "\n",
    "\n",
    "\"\"\"\n",
    "DON'T MODIFY ANYTHING IN THIS CELL THAT IS BELOW THIS LINE\n",
    "\"\"\"\n",
    "save_dir = './save'"
   ]
  },
  {
   "cell_type": "markdown",
   "metadata": {
    "deletable": true,
    "editable": true
   },
   "source": [
    "### Build the Graph\n",
    "Build the graph using the neural network you implemented."
   ]
  },
  {
   "cell_type": "code",
   "execution_count": 27,
   "metadata": {
    "collapsed": false,
    "deletable": true,
    "editable": true
   },
   "outputs": [],
   "source": [
    "\"\"\"\n",
    "DON'T MODIFY ANYTHING IN THIS CELL\n",
    "\"\"\"\n",
    "from tensorflow.contrib import seq2seq\n",
    "\n",
    "train_graph = tf.Graph()\n",
    "with train_graph.as_default():\n",
    "    vocab_size = len(int_to_vocab)\n",
    "    input_text, targets, lr = get_inputs()\n",
    "    input_data_shape = tf.shape(input_text)\n",
    "    cell, initial_state = get_init_cell(input_data_shape[0], rnn_size)\n",
    "    logits, final_state = build_nn(cell, rnn_size, input_text, vocab_size, embed_dim=256)\n",
    "\n",
    "    # Probabilities for generating words\n",
    "    probs = tf.nn.softmax(logits, name='probs')\n",
    "\n",
    "    # Loss function\n",
    "    cost = seq2seq.sequence_loss(\n",
    "        logits,\n",
    "        targets,\n",
    "        tf.ones([input_data_shape[0], input_data_shape[1]]))\n",
    "\n",
    "    # Optimizer\n",
    "    optimizer = tf.train.AdamOptimizer(lr)\n",
    "\n",
    "    # Gradient Clipping\n",
    "    gradients = optimizer.compute_gradients(cost)\n",
    "    capped_gradients = [(tf.clip_by_value(grad, -1., 1.), var) for grad, var in gradients]\n",
    "    train_op = optimizer.apply_gradients(capped_gradients)"
   ]
  },
  {
   "cell_type": "markdown",
   "metadata": {
    "deletable": true,
    "editable": true
   },
   "source": [
    "## Train\n",
    "Train the neural network on the preprocessed data.  If you have a hard time getting a good loss, check the [forms](https://discussions.udacity.com/) to see if anyone is having the same problem."
   ]
  },
  {
   "cell_type": "code",
   "execution_count": 28,
   "metadata": {
    "collapsed": false,
    "deletable": true,
    "editable": true
   },
   "outputs": [
    {
     "name": "stdout",
     "output_type": "stream",
     "text": [
      "Epoch   0 Batch    0/16   train_loss = 8.823\n",
      "Epoch   1 Batch    0/16   train_loss = 7.008\n",
      "Epoch   2 Batch    0/16   train_loss = 6.169\n",
      "Epoch   3 Batch    0/16   train_loss = 5.778\n",
      "Epoch   4 Batch    0/16   train_loss = 5.176\n",
      "Epoch   5 Batch    0/16   train_loss = 4.834\n",
      "Epoch   6 Batch    0/16   train_loss = 4.600\n",
      "Epoch   7 Batch    0/16   train_loss = 4.454\n",
      "Epoch   8 Batch    0/16   train_loss = 4.286\n",
      "Epoch   9 Batch    0/16   train_loss = 4.157\n",
      "Epoch  10 Batch    0/16   train_loss = 4.014\n",
      "Epoch  11 Batch    0/16   train_loss = 3.860\n",
      "Epoch  12 Batch    0/16   train_loss = 3.742\n",
      "Epoch  13 Batch    0/16   train_loss = 3.643\n",
      "Epoch  14 Batch    0/16   train_loss = 3.557\n",
      "Epoch  15 Batch    0/16   train_loss = 3.390\n",
      "Epoch  16 Batch    0/16   train_loss = 3.273\n",
      "Epoch  17 Batch    0/16   train_loss = 3.178\n",
      "Epoch  18 Batch    0/16   train_loss = 3.058\n",
      "Epoch  19 Batch    0/16   train_loss = 2.911\n",
      "Epoch  20 Batch    0/16   train_loss = 2.775\n",
      "Epoch  21 Batch    0/16   train_loss = 2.668\n",
      "Epoch  22 Batch    0/16   train_loss = 2.565\n",
      "Epoch  23 Batch    0/16   train_loss = 2.453\n",
      "Epoch  24 Batch    0/16   train_loss = 2.347\n",
      "Epoch  25 Batch    0/16   train_loss = 2.278\n",
      "Epoch  26 Batch    0/16   train_loss = 2.230\n",
      "Epoch  27 Batch    0/16   train_loss = 2.160\n",
      "Epoch  28 Batch    0/16   train_loss = 2.131\n",
      "Epoch  29 Batch    0/16   train_loss = 2.031\n",
      "Epoch  30 Batch    0/16   train_loss = 1.977\n",
      "Epoch  31 Batch    0/16   train_loss = 1.926\n",
      "Epoch  32 Batch    0/16   train_loss = 1.883\n",
      "Epoch  33 Batch    0/16   train_loss = 1.829\n",
      "Epoch  34 Batch    0/16   train_loss = 1.806\n",
      "Epoch  35 Batch    0/16   train_loss = 1.736\n",
      "Epoch  36 Batch    0/16   train_loss = 1.736\n",
      "Epoch  37 Batch    0/16   train_loss = 1.703\n",
      "Epoch  38 Batch    0/16   train_loss = 1.680\n",
      "Epoch  39 Batch    0/16   train_loss = 1.658\n",
      "Epoch  40 Batch    0/16   train_loss = 1.609\n",
      "Epoch  41 Batch    0/16   train_loss = 1.601\n",
      "Epoch  42 Batch    0/16   train_loss = 1.590\n",
      "Epoch  43 Batch    0/16   train_loss = 1.528\n",
      "Epoch  44 Batch    0/16   train_loss = 1.526\n",
      "Epoch  45 Batch    0/16   train_loss = 1.494\n",
      "Epoch  46 Batch    0/16   train_loss = 1.475\n",
      "Epoch  47 Batch    0/16   train_loss = 1.471\n",
      "Epoch  48 Batch    0/16   train_loss = 1.431\n",
      "Epoch  49 Batch    0/16   train_loss = 1.436\n",
      "Epoch  50 Batch    0/16   train_loss = 1.401\n",
      "Epoch  51 Batch    0/16   train_loss = 1.378\n",
      "Epoch  52 Batch    0/16   train_loss = 1.394\n",
      "Epoch  53 Batch    0/16   train_loss = 1.379\n",
      "Epoch  54 Batch    0/16   train_loss = 1.378\n",
      "Epoch  55 Batch    0/16   train_loss = 1.361\n",
      "Epoch  56 Batch    0/16   train_loss = 1.349\n",
      "Epoch  57 Batch    0/16   train_loss = 1.320\n",
      "Epoch  58 Batch    0/16   train_loss = 1.321\n",
      "Epoch  59 Batch    0/16   train_loss = 1.327\n",
      "Epoch  60 Batch    0/16   train_loss = 1.325\n",
      "Epoch  61 Batch    0/16   train_loss = 1.338\n",
      "Epoch  62 Batch    0/16   train_loss = 1.281\n",
      "Epoch  63 Batch    0/16   train_loss = 1.300\n",
      "Epoch  64 Batch    0/16   train_loss = 1.330\n",
      "Epoch  65 Batch    0/16   train_loss = 1.324\n",
      "Epoch  66 Batch    0/16   train_loss = 1.293\n",
      "Epoch  67 Batch    0/16   train_loss = 1.259\n",
      "Epoch  68 Batch    0/16   train_loss = 1.251\n",
      "Epoch  69 Batch    0/16   train_loss = 1.268\n",
      "Epoch  70 Batch    0/16   train_loss = 1.240\n",
      "Epoch  71 Batch    0/16   train_loss = 1.217\n",
      "Epoch  72 Batch    0/16   train_loss = 1.230\n",
      "Epoch  73 Batch    0/16   train_loss = 1.231\n",
      "Epoch  74 Batch    0/16   train_loss = 1.224\n",
      "Epoch  75 Batch    0/16   train_loss = 1.206\n",
      "Epoch  76 Batch    0/16   train_loss = 1.216\n",
      "Epoch  77 Batch    0/16   train_loss = 1.187\n",
      "Epoch  78 Batch    0/16   train_loss = 1.170\n",
      "Epoch  79 Batch    0/16   train_loss = 1.178\n",
      "Epoch  80 Batch    0/16   train_loss = 1.189\n",
      "Epoch  81 Batch    0/16   train_loss = 1.127\n",
      "Epoch  82 Batch    0/16   train_loss = 1.085\n",
      "Epoch  83 Batch    0/16   train_loss = 1.093\n",
      "Epoch  84 Batch    0/16   train_loss = 1.074\n",
      "Epoch  85 Batch    0/16   train_loss = 1.089\n",
      "Epoch  86 Batch    0/16   train_loss = 1.090\n",
      "Epoch  87 Batch    0/16   train_loss = 1.076\n",
      "Epoch  88 Batch    0/16   train_loss = 1.066\n",
      "Epoch  89 Batch    0/16   train_loss = 1.031\n",
      "Epoch  90 Batch    0/16   train_loss = 1.020\n",
      "Epoch  91 Batch    0/16   train_loss = 1.038\n",
      "Epoch  92 Batch    0/16   train_loss = 1.022\n",
      "Epoch  93 Batch    0/16   train_loss = 0.999\n",
      "Epoch  94 Batch    0/16   train_loss = 1.022\n",
      "Epoch  95 Batch    0/16   train_loss = 1.019\n",
      "Epoch  96 Batch    0/16   train_loss = 1.021\n",
      "Epoch  97 Batch    0/16   train_loss = 1.079\n",
      "Epoch  98 Batch    0/16   train_loss = 1.092\n",
      "Epoch  99 Batch    0/16   train_loss = 1.054\n",
      "Epoch 100 Batch    0/16   train_loss = 1.088\n",
      "Epoch 101 Batch    0/16   train_loss = 1.109\n",
      "Epoch 102 Batch    0/16   train_loss = 1.116\n",
      "Epoch 103 Batch    0/16   train_loss = 1.128\n",
      "Epoch 104 Batch    0/16   train_loss = 1.141\n",
      "Epoch 105 Batch    0/16   train_loss = 1.152\n",
      "Epoch 106 Batch    0/16   train_loss = 1.153\n",
      "Epoch 107 Batch    0/16   train_loss = 1.134\n",
      "Epoch 108 Batch    0/16   train_loss = 1.184\n",
      "Epoch 109 Batch    0/16   train_loss = 1.181\n",
      "Epoch 110 Batch    0/16   train_loss = 1.189\n",
      "Epoch 111 Batch    0/16   train_loss = 1.222\n",
      "Epoch 112 Batch    0/16   train_loss = 1.206\n",
      "Epoch 113 Batch    0/16   train_loss = 1.268\n",
      "Epoch 114 Batch    0/16   train_loss = 1.246\n",
      "Epoch 115 Batch    0/16   train_loss = 1.265\n",
      "Epoch 116 Batch    0/16   train_loss = 1.274\n",
      "Epoch 117 Batch    0/16   train_loss = 1.292\n",
      "Epoch 118 Batch    0/16   train_loss = 1.279\n",
      "Epoch 119 Batch    0/16   train_loss = 1.266\n",
      "Epoch 120 Batch    0/16   train_loss = 1.246\n",
      "Epoch 121 Batch    0/16   train_loss = 1.270\n",
      "Epoch 122 Batch    0/16   train_loss = 1.226\n",
      "Epoch 123 Batch    0/16   train_loss = 1.179\n",
      "Epoch 124 Batch    0/16   train_loss = 1.188\n",
      "Epoch 125 Batch    0/16   train_loss = 1.190\n",
      "Epoch 126 Batch    0/16   train_loss = 1.168\n",
      "Epoch 127 Batch    0/16   train_loss = 1.154\n",
      "Epoch 128 Batch    0/16   train_loss = 1.154\n",
      "Epoch 129 Batch    0/16   train_loss = 1.127\n",
      "Epoch 130 Batch    0/16   train_loss = 1.072\n",
      "Epoch 131 Batch    0/16   train_loss = 1.058\n",
      "Epoch 132 Batch    0/16   train_loss = 1.074\n",
      "Epoch 133 Batch    0/16   train_loss = 1.044\n",
      "Epoch 134 Batch    0/16   train_loss = 1.036\n",
      "Epoch 135 Batch    0/16   train_loss = 0.994\n",
      "Epoch 136 Batch    0/16   train_loss = 0.985\n",
      "Epoch 137 Batch    0/16   train_loss = 0.996\n",
      "Epoch 138 Batch    0/16   train_loss = 0.992\n",
      "Epoch 139 Batch    0/16   train_loss = 0.968\n",
      "Epoch 140 Batch    0/16   train_loss = 0.987\n",
      "Epoch 141 Batch    0/16   train_loss = 0.944\n",
      "Epoch 142 Batch    0/16   train_loss = 0.936\n",
      "Epoch 143 Batch    0/16   train_loss = 0.967\n",
      "Epoch 144 Batch    0/16   train_loss = 0.928\n",
      "Epoch 145 Batch    0/16   train_loss = 0.958\n",
      "Epoch 146 Batch    0/16   train_loss = 0.919\n",
      "Epoch 147 Batch    0/16   train_loss = 0.921\n",
      "Epoch 148 Batch    0/16   train_loss = 0.923\n",
      "Epoch 149 Batch    0/16   train_loss = 0.919\n",
      "Epoch 150 Batch    0/16   train_loss = 0.922\n",
      "Epoch 151 Batch    0/16   train_loss = 0.911\n",
      "Epoch 152 Batch    0/16   train_loss = 0.910\n",
      "Epoch 153 Batch    0/16   train_loss = 0.910\n",
      "Epoch 154 Batch    0/16   train_loss = 0.947\n",
      "Epoch 155 Batch    0/16   train_loss = 0.952\n",
      "Epoch 156 Batch    0/16   train_loss = 0.986\n",
      "Epoch 157 Batch    0/16   train_loss = 1.045\n",
      "Epoch 158 Batch    0/16   train_loss = 1.029\n",
      "Epoch 159 Batch    0/16   train_loss = 1.020\n",
      "Epoch 160 Batch    0/16   train_loss = 1.063\n",
      "Epoch 161 Batch    0/16   train_loss = 1.024\n",
      "Epoch 162 Batch    0/16   train_loss = 1.075\n",
      "Epoch 163 Batch    0/16   train_loss = 1.071\n",
      "Epoch 164 Batch    0/16   train_loss = 1.112\n",
      "Epoch 165 Batch    0/16   train_loss = 1.151\n",
      "Epoch 166 Batch    0/16   train_loss = 1.174\n",
      "Epoch 167 Batch    0/16   train_loss = 1.214\n",
      "Epoch 168 Batch    0/16   train_loss = 1.209\n",
      "Epoch 169 Batch    0/16   train_loss = 1.225\n",
      "Epoch 170 Batch    0/16   train_loss = 1.213\n",
      "Epoch 171 Batch    0/16   train_loss = 1.271\n",
      "Epoch 172 Batch    0/16   train_loss = 1.298\n",
      "Epoch 173 Batch    0/16   train_loss = 1.335\n",
      "Epoch 174 Batch    0/16   train_loss = 1.325\n",
      "Epoch 175 Batch    0/16   train_loss = 1.332\n",
      "Epoch 176 Batch    0/16   train_loss = 1.338\n",
      "Epoch 177 Batch    0/16   train_loss = 1.315\n",
      "Epoch 178 Batch    0/16   train_loss = 1.319\n",
      "Epoch 179 Batch    0/16   train_loss = 1.311\n",
      "Epoch 180 Batch    0/16   train_loss = 1.306\n",
      "Epoch 181 Batch    0/16   train_loss = 1.299\n",
      "Epoch 182 Batch    0/16   train_loss = 1.301\n",
      "Epoch 183 Batch    0/16   train_loss = 1.270\n",
      "Epoch 184 Batch    0/16   train_loss = 1.223\n",
      "Epoch 185 Batch    0/16   train_loss = 1.193\n",
      "Epoch 186 Batch    0/16   train_loss = 1.210\n",
      "Epoch 187 Batch    0/16   train_loss = 1.206\n",
      "Epoch 188 Batch    0/16   train_loss = 1.216\n",
      "Epoch 189 Batch    0/16   train_loss = 1.207\n",
      "Epoch 190 Batch    0/16   train_loss = 1.199\n",
      "Epoch 191 Batch    0/16   train_loss = 1.192\n",
      "Epoch 192 Batch    0/16   train_loss = 1.195\n",
      "Epoch 193 Batch    0/16   train_loss = 1.147\n",
      "Epoch 194 Batch    0/16   train_loss = 1.181\n",
      "Epoch 195 Batch    0/16   train_loss = 1.136\n",
      "Epoch 196 Batch    0/16   train_loss = 1.097\n",
      "Epoch 197 Batch    0/16   train_loss = 1.089\n",
      "Epoch 198 Batch    0/16   train_loss = 1.067\n",
      "Epoch 199 Batch    0/16   train_loss = 1.070\n",
      "Epoch 200 Batch    0/16   train_loss = 1.041\n",
      "Epoch 201 Batch    0/16   train_loss = 1.005\n",
      "Epoch 202 Batch    0/16   train_loss = 1.016\n",
      "Epoch 203 Batch    0/16   train_loss = 0.966\n",
      "Epoch 204 Batch    0/16   train_loss = 0.966\n",
      "Epoch 205 Batch    0/16   train_loss = 0.977\n",
      "Epoch 206 Batch    0/16   train_loss = 0.976\n",
      "Epoch 207 Batch    0/16   train_loss = 0.965\n",
      "Epoch 208 Batch    0/16   train_loss = 0.965\n",
      "Epoch 209 Batch    0/16   train_loss = 0.976\n",
      "Epoch 210 Batch    0/16   train_loss = 0.982\n",
      "Epoch 211 Batch    0/16   train_loss = 0.977\n",
      "Epoch 212 Batch    0/16   train_loss = 0.966\n",
      "Epoch 213 Batch    0/16   train_loss = 0.957\n",
      "Epoch 214 Batch    0/16   train_loss = 0.927\n",
      "Epoch 215 Batch    0/16   train_loss = 0.926\n",
      "Epoch 216 Batch    0/16   train_loss = 0.929\n",
      "Epoch 217 Batch    0/16   train_loss = 0.949\n",
      "Epoch 218 Batch    0/16   train_loss = 0.931\n",
      "Epoch 219 Batch    0/16   train_loss = 0.932\n",
      "Epoch 220 Batch    0/16   train_loss = 0.943\n",
      "Epoch 221 Batch    0/16   train_loss = 0.932\n",
      "Epoch 222 Batch    0/16   train_loss = 0.944\n",
      "Epoch 223 Batch    0/16   train_loss = 0.920\n",
      "Epoch 224 Batch    0/16   train_loss = 0.921\n",
      "Epoch 225 Batch    0/16   train_loss = 0.969\n",
      "Epoch 226 Batch    0/16   train_loss = 0.981\n",
      "Epoch 227 Batch    0/16   train_loss = 0.964\n",
      "Epoch 228 Batch    0/16   train_loss = 0.978\n",
      "Epoch 229 Batch    0/16   train_loss = 0.984\n",
      "Epoch 230 Batch    0/16   train_loss = 1.053\n",
      "Epoch 231 Batch    0/16   train_loss = 1.062\n",
      "Epoch 232 Batch    0/16   train_loss = 1.086\n",
      "Epoch 233 Batch    0/16   train_loss = 1.128\n",
      "Epoch 234 Batch    0/16   train_loss = 1.146\n",
      "Epoch 235 Batch    0/16   train_loss = 1.170\n",
      "Epoch 236 Batch    0/16   train_loss = 1.177\n",
      "Epoch 237 Batch    0/16   train_loss = 1.168\n",
      "Epoch 238 Batch    0/16   train_loss = 1.206\n",
      "Epoch 239 Batch    0/16   train_loss = 1.287\n",
      "Epoch 240 Batch    0/16   train_loss = 1.312\n",
      "Epoch 241 Batch    0/16   train_loss = 1.295\n",
      "Epoch 242 Batch    0/16   train_loss = 1.332\n",
      "Epoch 243 Batch    0/16   train_loss = 1.332\n",
      "Epoch 244 Batch    0/16   train_loss = 1.383\n",
      "Epoch 245 Batch    0/16   train_loss = 1.378\n",
      "Epoch 246 Batch    0/16   train_loss = 1.397\n",
      "Epoch 247 Batch    0/16   train_loss = 1.382\n",
      "Epoch 248 Batch    0/16   train_loss = 1.428\n",
      "Epoch 249 Batch    0/16   train_loss = 1.475\n",
      "Epoch 250 Batch    0/16   train_loss = 1.451\n",
      "Epoch 251 Batch    0/16   train_loss = 1.477\n",
      "Epoch 252 Batch    0/16   train_loss = 1.472\n",
      "Epoch 253 Batch    0/16   train_loss = 1.463\n",
      "Epoch 254 Batch    0/16   train_loss = 1.452\n",
      "Epoch 255 Batch    0/16   train_loss = 1.447\n",
      "Epoch 256 Batch    0/16   train_loss = 1.419\n",
      "Epoch 257 Batch    0/16   train_loss = 1.440\n",
      "Epoch 258 Batch    0/16   train_loss = 1.492\n",
      "Epoch 259 Batch    0/16   train_loss = 1.471\n",
      "Epoch 260 Batch    0/16   train_loss = 1.487\n",
      "Epoch 261 Batch    0/16   train_loss = 1.434\n",
      "Epoch 262 Batch    0/16   train_loss = 1.471\n",
      "Epoch 263 Batch    0/16   train_loss = 1.450\n",
      "Epoch 264 Batch    0/16   train_loss = 1.430\n",
      "Epoch 265 Batch    0/16   train_loss = 1.461\n",
      "Epoch 266 Batch    0/16   train_loss = 1.417\n",
      "Epoch 267 Batch    0/16   train_loss = 1.343\n",
      "Epoch 268 Batch    0/16   train_loss = 1.321\n",
      "Epoch 269 Batch    0/16   train_loss = 1.311\n",
      "Epoch 270 Batch    0/16   train_loss = 1.297\n",
      "Epoch 271 Batch    0/16   train_loss = 1.259\n",
      "Epoch 272 Batch    0/16   train_loss = 1.226\n",
      "Model Trained and Saved\n"
     ]
    }
   ],
   "source": [
    "\"\"\"\n",
    "DON'T MODIFY ANYTHING IN THIS CELL\n",
    "\"\"\"\n",
    "batches = get_batches(int_text, batch_size, seq_length)\n",
    "\n",
    "with tf.Session(graph=train_graph) as sess:\n",
    "    sess.run(tf.global_variables_initializer())\n",
    "\n",
    "    for epoch_i in range(num_epochs):\n",
    "        state = sess.run(initial_state, {input_text: batches[0][0]})\n",
    "\n",
    "        for batch_i, (x, y) in enumerate(batches):\n",
    "            feed = {\n",
    "                input_text: x,\n",
    "                targets: y,\n",
    "                initial_state: state,\n",
    "                lr: learning_rate}\n",
    "            train_loss, state, _ = sess.run([cost, final_state, train_op], feed)\n",
    "\n",
    "            # Show every <show_every_n_batches> batches\n",
    "            if (epoch_i * len(batches) + batch_i) % show_every_n_batches == 0:\n",
    "                print('Epoch {:>3} Batch {:>4}/{}   train_loss = {:.3f}'.format(\n",
    "                    epoch_i,\n",
    "                    batch_i,\n",
    "                    len(batches),\n",
    "                    train_loss))\n",
    "\n",
    "    # Save Model\n",
    "    saver = tf.train.Saver()\n",
    "    saver.save(sess, save_dir)\n",
    "    print('Model Trained and Saved')"
   ]
  },
  {
   "cell_type": "markdown",
   "metadata": {
    "deletable": true,
    "editable": true
   },
   "source": [
    "## Save Parameters\n",
    "Save `seq_length` and `save_dir` for generating a new TV script."
   ]
  },
  {
   "cell_type": "code",
   "execution_count": 29,
   "metadata": {
    "collapsed": true,
    "deletable": true,
    "editable": true
   },
   "outputs": [],
   "source": [
    "\"\"\"\n",
    "DON'T MODIFY ANYTHING IN THIS CELL\n",
    "\"\"\"\n",
    "# Save parameters for checkpoint\n",
    "helper.save_params((seq_length, save_dir))"
   ]
  },
  {
   "cell_type": "markdown",
   "metadata": {
    "deletable": true,
    "editable": true
   },
   "source": [
    "# Checkpoint"
   ]
  },
  {
   "cell_type": "code",
   "execution_count": 30,
   "metadata": {
    "collapsed": true,
    "deletable": true,
    "editable": true
   },
   "outputs": [],
   "source": [
    "\"\"\"\n",
    "DON'T MODIFY ANYTHING IN THIS CELL\n",
    "\"\"\"\n",
    "import tensorflow as tf\n",
    "import numpy as np\n",
    "import helper\n",
    "import problem_unittests as tests\n",
    "\n",
    "_, vocab_to_int, int_to_vocab, token_dict = helper.load_preprocess()\n",
    "seq_length, load_dir = helper.load_params()"
   ]
  },
  {
   "cell_type": "markdown",
   "metadata": {
    "deletable": true,
    "editable": true
   },
   "source": [
    "## Implement Generate Functions\n",
    "### Get Tensors\n",
    "Get tensors from `loaded_graph` using the function [`get_tensor_by_name()`](https://www.tensorflow.org/api_docs/python/tf/Graph#get_tensor_by_name).  Get the tensors using the following names:\n",
    "- \"input:0\"\n",
    "- \"initial_state:0\"\n",
    "- \"final_state:0\"\n",
    "- \"probs:0\"\n",
    "\n",
    "Return the tensors in the following tuple `(InputTensor, InitialStateTensor, FinalStateTensor, ProbsTensor)` "
   ]
  },
  {
   "cell_type": "code",
   "execution_count": 31,
   "metadata": {
    "collapsed": false,
    "deletable": true,
    "editable": true
   },
   "outputs": [
    {
     "name": "stdout",
     "output_type": "stream",
     "text": [
      "Tests Passed\n"
     ]
    }
   ],
   "source": [
    "def get_tensors(loaded_graph):\n",
    "    \"\"\"\n",
    "    Get input, initial state, final state, and probabilities tensor from <loaded_graph>\n",
    "    :param loaded_graph: TensorFlow graph loaded from file\n",
    "    :return: Tuple (InputTensor, InitialStateTensor, FinalStateTensor, ProbsTensor)\n",
    "    \"\"\"\n",
    "    # TODO: Implement Function\n",
    "    InputTensor = loaded_graph.get_tensor_by_name(\"input:0\")\n",
    "    InitialStateTensor = loaded_graph.get_tensor_by_name(\"initial_state:0\")\n",
    "    FinalStateTensor = loaded_graph.get_tensor_by_name(\"final_state:0\")\n",
    "    ProbsTensor = loaded_graph.get_tensor_by_name(\"probs:0\")\n",
    "    \n",
    "    return InputTensor, InitialStateTensor, FinalStateTensor, ProbsTensor\n",
    "\n",
    "\n",
    "\"\"\"\n",
    "DON'T MODIFY ANYTHING IN THIS CELL THAT IS BELOW THIS LINE\n",
    "\"\"\"\n",
    "tests.test_get_tensors(get_tensors)"
   ]
  },
  {
   "cell_type": "markdown",
   "metadata": {
    "deletable": true,
    "editable": true
   },
   "source": [
    "### Choose Word\n",
    "Implement the `pick_word()` function to select the next word using `probabilities`."
   ]
  },
  {
   "cell_type": "code",
   "execution_count": 32,
   "metadata": {
    "collapsed": false,
    "deletable": true,
    "editable": true
   },
   "outputs": [
    {
     "name": "stdout",
     "output_type": "stream",
     "text": [
      "Tests Passed\n"
     ]
    }
   ],
   "source": [
    "def pick_word(probabilities, int_to_vocab):\n",
    "    \"\"\"\n",
    "    Pick the next word in the generated text\n",
    "    :param probabilities: Probabilites of the next word\n",
    "    :param int_to_vocab: Dictionary of word ids as the keys and words as the values\n",
    "    :return: String of the predicted word\n",
    "    \"\"\"\n",
    "    # TODO: Implement Function\n",
    "    return np.random.choice(list(int_to_vocab.values()), 1, p=probabilities)[0]\n",
    "\n",
    "\n",
    "\"\"\"\n",
    "DON'T MODIFY ANYTHING IN THIS CELL THAT IS BELOW THIS LINE\n",
    "\"\"\"\n",
    "tests.test_pick_word(pick_word)"
   ]
  },
  {
   "cell_type": "markdown",
   "metadata": {
    "deletable": true,
    "editable": true
   },
   "source": [
    "## Generate TV Script\n",
    "This will generate the TV script for you.  Set `gen_length` to the length of TV script you want to generate."
   ]
  },
  {
   "cell_type": "code",
   "execution_count": 33,
   "metadata": {
    "collapsed": false,
    "deletable": true,
    "editable": true
   },
   "outputs": [
    {
     "name": "stdout",
     "output_type": "stream",
     "text": [
      "moe_szyslak: ya bunch of ungrateful ingrates!\n",
      "moe_szyslak:(distraught) hey, i'm no idea.\n",
      "barney_gumble: not.\n",
      "carl_carlson: yes, will you? what the?\n",
      "lenny_leonard:(nods) we're big deal?\n",
      "lenny_leonard: six reading, rub-a-dub.\n",
      "homer_simpson: or who'll you like to introduce ned that.\n",
      "moe_szyslak: yuh-huh.\n",
      "homer_simpson: i are not barney! / with your magic, is a decent man?(sobs)\n",
      "homer_simpson:(almost) okay...\n",
      "bar_rag:(concerned in bart) oh, moe, thank me it. i'm a kind of wine! and that play is out around the bar, you're way your face...(desperate nobody\")-- bart 'cause barflies won't wanted me let me can be crayon, it.\n",
      "homer_simpson:(re: tap) hmm... well, let me die. oh, god. no, i was a try always.\n",
      "homer_simpson:(sunk) my adeleine. but i wanted to give homer to me a woman where you can not. you\n"
     ]
    }
   ],
   "source": [
    "gen_length = 200\n",
    "# homer_simpson, moe_szyslak, or Barney_Gumble\n",
    "prime_word = 'moe_szyslak'\n",
    "\n",
    "\"\"\"\n",
    "DON'T MODIFY ANYTHING IN THIS CELL THAT IS BELOW THIS LINE\n",
    "\"\"\"\n",
    "loaded_graph = tf.Graph()\n",
    "with tf.Session(graph=loaded_graph) as sess:\n",
    "    # Load saved model\n",
    "    loader = tf.train.import_meta_graph(load_dir + '.meta')\n",
    "    loader.restore(sess, load_dir)\n",
    "\n",
    "    # Get Tensors from loaded model\n",
    "    input_text, initial_state, final_state, probs = get_tensors(loaded_graph)\n",
    "\n",
    "    # Sentences generation setup\n",
    "    gen_sentences = [prime_word + ':']\n",
    "    prev_state = sess.run(initial_state, {input_text: np.array([[1]])})\n",
    "\n",
    "    # Generate sentences\n",
    "    for n in range(gen_length):\n",
    "        # Dynamic Input\n",
    "        dyn_input = [[vocab_to_int[word] for word in gen_sentences[-seq_length:]]]\n",
    "        dyn_seq_length = len(dyn_input[0])\n",
    "\n",
    "        # Get Prediction\n",
    "        probabilities, prev_state = sess.run(\n",
    "            [probs, final_state],\n",
    "            {input_text: dyn_input, initial_state: prev_state})\n",
    "        \n",
    "        pred_word = pick_word(probabilities[dyn_seq_length-1], int_to_vocab)\n",
    "\n",
    "        gen_sentences.append(pred_word)\n",
    "    \n",
    "    # Remove tokens\n",
    "    tv_script = ' '.join(gen_sentences)\n",
    "    for key, token in token_dict.items():\n",
    "        ending = ' ' if key in ['\\n', '(', '\"'] else ''\n",
    "        tv_script = tv_script.replace(' ' + token.lower(), key)\n",
    "    tv_script = tv_script.replace('\\n ', '\\n')\n",
    "    tv_script = tv_script.replace('( ', '(')\n",
    "        \n",
    "    print(tv_script)"
   ]
  },
  {
   "cell_type": "markdown",
   "metadata": {
    "deletable": true,
    "editable": true
   },
   "source": [
    "# The TV Script is Nonsensical\n",
    "It's ok if the TV script doesn't make any sense.  We trained on less than a megabyte of text.  In order to get good results, you'll have to use a smaller vocabulary or get more data.  Luckly there's more data!  As we mentioned in the begging of this project, this is a subset of [another dataset](https://www.kaggle.com/wcukierski/the-simpsons-by-the-data).  We didn't have you train on all the data, because that would take too long.  However, you are free to train your neural network on all the data.  After you complete the project, of course.\n",
    "# Submitting This Project\n",
    "When submitting this project, make sure to run all the cells before saving the notebook. Save the notebook file as \"dlnd_tv_script_generation.ipynb\" and save it as a HTML file under \"File\" -> \"Download as\". Include the \"helper.py\" and \"problem_unittests.py\" files in your submission."
   ]
  }
 ],
 "metadata": {
  "kernelspec": {
   "display_name": "Python 3",
   "language": "python",
   "name": "python3"
  },
  "language_info": {
   "codemirror_mode": {
    "name": "ipython",
    "version": 3
   },
   "file_extension": ".py",
   "mimetype": "text/x-python",
   "name": "python",
   "nbconvert_exporter": "python",
   "pygments_lexer": "ipython3",
   "version": "3.5.2"
  },
  "widgets": {
   "state": {},
   "version": "1.1.2"
  }
 },
 "nbformat": 4,
 "nbformat_minor": 1
}
